{
 "cells": [
  {
   "cell_type": "code",
   "execution_count": null,
   "id": "b233b54f-8bf5-47ed-8b26-8f33b180b8c3",
   "metadata": {},
   "outputs": [],
   "source": [
    "import yfinance as yf\n",
    "import ta\n",
    "\n",
    "btc = yf.download(\"BTC-USD\", period=\"7d\", interval=\"1h\")\n",
    "btc[\"rsi\"] = ta.momentum.RSIIndicator(btc[\"Close\"]).rsi()\n",
    "btc.tail()\n"
   ]
  }
 ],
 "metadata": {
  "kernelspec": {
   "display_name": "Python 3 (ipykernel)",
   "language": "python",
   "name": "python3"
  },
  "language_info": {
   "codemirror_mode": {
    "name": "ipython",
    "version": 3
   },
   "file_extension": ".py",
   "mimetype": "text/x-python",
   "name": "python",
   "nbconvert_exporter": "python",
   "pygments_lexer": "ipython3",
   "version": "3.12.3"
  }
 },
 "nbformat": 4,
 "nbformat_minor": 5
}
